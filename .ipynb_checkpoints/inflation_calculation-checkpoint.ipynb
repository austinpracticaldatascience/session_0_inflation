{
 "cells": [
  {
   "cell_type": "markdown",
   "id": "a75ca874-ece4-44ca-9494-1d39e4f02640",
   "metadata": {},
   "source": [
    "All relevant files should already be in /data directory\n",
    "\n",
    "\n",
    "If needed, FTP site is here:\n",
    "https://download.bls.gov/pub/time.series/cu/"
   ]
  },
  {
   "cell_type": "markdown",
   "id": "69070aee-7ba7-4d02-9f5d-83f051e43f25",
   "metadata": {
    "jupyter": {
     "outputs_hidden": true
    },
    "tags": []
   },
   "source": [
    "Series IDs are construced following these rules:\n",
    "\n",
    "|Data Element\t\t\t|Length\t\t|Reference\t\t\t\t|Values\t\t|Default|\n",
    "|-----------------------|-----------|-----------------------|-----------|-------|\n",
    "|CU\t\t\t\t\t\t|2\t\t\t|\t\t\t\t\t\t|CU\t\t\t|CU|\n",
    "|Seasonal Adjustment\t|1\t\t\t|cu.seasonal.txt\t\t|(S, U)\t\t|U|\n",
    "|Periodicity\t\t\t|1\t\t\t|cu.periodicity.txt\t\t|(R, S)\t\t|R|\n",
    "|Area\t\t\t\t\t|4\t\t\t|cu.area.txt\t\t\t|see file\t|0000|\n",
    "|Item\t\t\t\t\t|varies\t\t|cu.item.txt\t\t\t|see file\t|SAO|\n"
   ]
  },
  {
   "cell_type": "code",
   "execution_count": 24,
   "id": "bc8115f0-5864-4b7b-953f-70bc641f5fcc",
   "metadata": {},
   "outputs": [],
   "source": [
    "import pandas as pd"
   ]
  },
  {
   "cell_type": "code",
   "execution_count": 131,
   "id": "7f16070b-6dd7-42d5-9fdd-90bbba442eec",
   "metadata": {},
   "outputs": [
    {
     "data": {
      "text/html": [
       "<div>\n",
       "<style scoped>\n",
       "    .dataframe tbody tr th:only-of-type {\n",
       "        vertical-align: middle;\n",
       "    }\n",
       "\n",
       "    .dataframe tbody tr th {\n",
       "        vertical-align: top;\n",
       "    }\n",
       "\n",
       "    .dataframe thead th {\n",
       "        text-align: right;\n",
       "    }\n",
       "</style>\n",
       "<table border=\"1\" class=\"dataframe\">\n",
       "  <thead>\n",
       "    <tr style=\"text-align: right;\">\n",
       "      <th></th>\n",
       "      <th>item_code</th>\n",
       "      <th>item_name</th>\n",
       "      <th>display_level</th>\n",
       "      <th>selectable</th>\n",
       "      <th>sort_sequence</th>\n",
       "    </tr>\n",
       "  </thead>\n",
       "  <tbody>\n",
       "    <tr>\n",
       "      <th>2</th>\n",
       "      <td>SA0</td>\n",
       "      <td>All items</td>\n",
       "      <td>0</td>\n",
       "      <td>T</td>\n",
       "      <td>1</td>\n",
       "    </tr>\n",
       "    <tr>\n",
       "      <th>0</th>\n",
       "      <td>AA0</td>\n",
       "      <td>All items - old base</td>\n",
       "      <td>0</td>\n",
       "      <td>T</td>\n",
       "      <td>2</td>\n",
       "    </tr>\n",
       "    <tr>\n",
       "      <th>30</th>\n",
       "      <td>SAF</td>\n",
       "      <td>Food and beverages</td>\n",
       "      <td>0</td>\n",
       "      <td>T</td>\n",
       "      <td>3</td>\n",
       "    </tr>\n",
       "    <tr>\n",
       "      <th>31</th>\n",
       "      <td>SAF1</td>\n",
       "      <td>Food</td>\n",
       "      <td>1</td>\n",
       "      <td>T</td>\n",
       "      <td>4</td>\n",
       "    </tr>\n",
       "    <tr>\n",
       "      <th>32</th>\n",
       "      <td>SAF11</td>\n",
       "      <td>Food at home</td>\n",
       "      <td>2</td>\n",
       "      <td>T</td>\n",
       "      <td>5</td>\n",
       "    </tr>\n",
       "    <tr>\n",
       "      <th>...</th>\n",
       "      <td>...</td>\n",
       "      <td>...</td>\n",
       "      <td>...</td>\n",
       "      <td>...</td>\n",
       "      <td>...</td>\n",
       "    </tr>\n",
       "    <tr>\n",
       "      <th>65</th>\n",
       "      <td>SAS24</td>\n",
       "      <td>Utilities and public transportation</td>\n",
       "      <td>1</td>\n",
       "      <td>T</td>\n",
       "      <td>396</td>\n",
       "    </tr>\n",
       "    <tr>\n",
       "      <th>272</th>\n",
       "      <td>SERAC</td>\n",
       "      <td>Video and audio products</td>\n",
       "      <td>1</td>\n",
       "      <td>T</td>\n",
       "      <td>397</td>\n",
       "    </tr>\n",
       "    <tr>\n",
       "      <th>273</th>\n",
       "      <td>SERAS</td>\n",
       "      <td>Video and audio services</td>\n",
       "      <td>1</td>\n",
       "      <td>T</td>\n",
       "      <td>398</td>\n",
       "    </tr>\n",
       "    <tr>\n",
       "      <th>12</th>\n",
       "      <td>SA0R</td>\n",
       "      <td>Purchasing power of the consumer dollar</td>\n",
       "      <td>0</td>\n",
       "      <td>T</td>\n",
       "      <td>399</td>\n",
       "    </tr>\n",
       "    <tr>\n",
       "      <th>1</th>\n",
       "      <td>AA0R</td>\n",
       "      <td>Purchasing power of the consumer dollar - old ...</td>\n",
       "      <td>0</td>\n",
       "      <td>T</td>\n",
       "      <td>400</td>\n",
       "    </tr>\n",
       "  </tbody>\n",
       "</table>\n",
       "<p>400 rows × 5 columns</p>\n",
       "</div>"
      ],
      "text/plain": [
       "    item_code                                          item_name  \\\n",
       "2         SA0                                          All items   \n",
       "0         AA0                               All items - old base   \n",
       "30        SAF                                 Food and beverages   \n",
       "31       SAF1                                               Food   \n",
       "32      SAF11                                       Food at home   \n",
       "..        ...                                                ...   \n",
       "65      SAS24                Utilities and public transportation   \n",
       "272     SERAC                           Video and audio products   \n",
       "273     SERAS                           Video and audio services   \n",
       "12       SA0R            Purchasing power of the consumer dollar   \n",
       "1        AA0R  Purchasing power of the consumer dollar - old ...   \n",
       "\n",
       "     display_level selectable  sort_sequence  \n",
       "2                0          T              1  \n",
       "0                0          T              2  \n",
       "30               0          T              3  \n",
       "31               1          T              4  \n",
       "32               2          T              5  \n",
       "..             ...        ...            ...  \n",
       "65               1          T            396  \n",
       "272              1          T            397  \n",
       "273              1          T            398  \n",
       "12               0          T            399  \n",
       "1                0          T            400  \n",
       "\n",
       "[400 rows x 5 columns]"
      ]
     },
     "execution_count": 131,
     "metadata": {},
     "output_type": "execute_result"
    }
   ],
   "source": [
    "items_df = pd.read_table('data/cu.item.txt')\n",
    "items_df.columns = [x.strip() for x in items_df.columns]\n",
    "items_df.sort_values(by='sort_sequence')"
   ]
  },
  {
   "cell_type": "code",
   "execution_count": 47,
   "id": "5ab98f53-477f-47a3-9cd1-291ed399d339",
   "metadata": {},
   "outputs": [],
   "source": [
    "series_df = pd.read_table('data/cu.data.1.AllItems.txt')\n",
    "series_df.columns = [x.strip() for x in series_df.columns]"
   ]
  },
  {
   "cell_type": "code",
   "execution_count": 91,
   "id": "3023baa4-6484-49f8-831b-c58d531dd58a",
   "metadata": {},
   "outputs": [],
   "source": [
    "series_monthly_df = series_df[series_df.period.str.startswith('M') & \\\n",
    "                             ~(series_df.period.str.endswith('13'))].copy()"
   ]
  },
  {
   "cell_type": "code",
   "execution_count": 93,
   "id": "34ad3fec-384f-4a1e-a6d2-9fa1889bbbbf",
   "metadata": {},
   "outputs": [],
   "source": [
    "series_monthly_df['date'] = pd.to_datetime([f'{y}-{m[1:]}-01' for \\\n",
    "                                            y, m in zip(series_monthly_df.year,\n",
    "                                                        series_monthly_df.period)])\n",
    "\n",
    "series_monthly_df.sort_values(by=['series_id', 'date'], inplace=True)"
   ]
  },
  {
   "cell_type": "code",
   "execution_count": 94,
   "id": "5dd71361-7eb6-4242-b030-ffb7bf820387",
   "metadata": {},
   "outputs": [
    {
     "data": {
      "text/html": [
       "<div>\n",
       "<style scoped>\n",
       "    .dataframe tbody tr th:only-of-type {\n",
       "        vertical-align: middle;\n",
       "    }\n",
       "\n",
       "    .dataframe tbody tr th {\n",
       "        vertical-align: top;\n",
       "    }\n",
       "\n",
       "    .dataframe thead th {\n",
       "        text-align: right;\n",
       "    }\n",
       "</style>\n",
       "<table border=\"1\" class=\"dataframe\">\n",
       "  <thead>\n",
       "    <tr style=\"text-align: right;\">\n",
       "      <th></th>\n",
       "      <th>series_id</th>\n",
       "      <th>year</th>\n",
       "      <th>period</th>\n",
       "      <th>value</th>\n",
       "      <th>footnote_codes</th>\n",
       "      <th>date</th>\n",
       "    </tr>\n",
       "  </thead>\n",
       "  <tbody>\n",
       "    <tr>\n",
       "      <th>0</th>\n",
       "      <td>CUSR0000SA0</td>\n",
       "      <td>1947</td>\n",
       "      <td>M01</td>\n",
       "      <td>21.48</td>\n",
       "      <td>NaN</td>\n",
       "      <td>1947-01-01</td>\n",
       "    </tr>\n",
       "    <tr>\n",
       "      <th>1</th>\n",
       "      <td>CUSR0000SA0</td>\n",
       "      <td>1947</td>\n",
       "      <td>M02</td>\n",
       "      <td>21.62</td>\n",
       "      <td>NaN</td>\n",
       "      <td>1947-02-01</td>\n",
       "    </tr>\n",
       "    <tr>\n",
       "      <th>2</th>\n",
       "      <td>CUSR0000SA0</td>\n",
       "      <td>1947</td>\n",
       "      <td>M03</td>\n",
       "      <td>22.00</td>\n",
       "      <td>NaN</td>\n",
       "      <td>1947-03-01</td>\n",
       "    </tr>\n",
       "    <tr>\n",
       "      <th>3</th>\n",
       "      <td>CUSR0000SA0</td>\n",
       "      <td>1947</td>\n",
       "      <td>M04</td>\n",
       "      <td>22.00</td>\n",
       "      <td>NaN</td>\n",
       "      <td>1947-04-01</td>\n",
       "    </tr>\n",
       "    <tr>\n",
       "      <th>4</th>\n",
       "      <td>CUSR0000SA0</td>\n",
       "      <td>1947</td>\n",
       "      <td>M05</td>\n",
       "      <td>21.95</td>\n",
       "      <td>NaN</td>\n",
       "      <td>1947-05-01</td>\n",
       "    </tr>\n",
       "  </tbody>\n",
       "</table>\n",
       "</div>"
      ],
      "text/plain": [
       "     series_id  year period  value  footnote_codes       date\n",
       "0  CUSR0000SA0  1947    M01  21.48             NaN 1947-01-01\n",
       "1  CUSR0000SA0  1947    M02  21.62             NaN 1947-02-01\n",
       "2  CUSR0000SA0  1947    M03  22.00             NaN 1947-03-01\n",
       "3  CUSR0000SA0  1947    M04  22.00             NaN 1947-04-01\n",
       "4  CUSR0000SA0  1947    M05  21.95             NaN 1947-05-01"
      ]
     },
     "execution_count": 94,
     "metadata": {},
     "output_type": "execute_result"
    }
   ],
   "source": [
    "series_monthly_df.head()"
   ]
  },
  {
   "cell_type": "code",
   "execution_count": 95,
   "id": "a655e989-5922-472b-a8c4-3564a0987056",
   "metadata": {},
   "outputs": [],
   "source": [
    "series_monthly_df.series_id = series_df.series_id.apply(lambda x: x.strip())"
   ]
  },
  {
   "cell_type": "code",
   "execution_count": 114,
   "id": "73621f21-460d-469e-840e-bb2024f09d9d",
   "metadata": {},
   "outputs": [],
   "source": [
    "cpi_all_df = series_monthly_df[series_monthly_df.series_id == 'CUUR0000SA0'].copy()"
   ]
  },
  {
   "cell_type": "code",
   "execution_count": 115,
   "id": "785d18f0-5331-480b-86ca-4530aff272a9",
   "metadata": {},
   "outputs": [
    {
     "data": {
      "text/plain": [
       "<AxesSubplot:xlabel='date'>"
      ]
     },
     "execution_count": 115,
     "metadata": {},
     "output_type": "execute_result"
    },
    {
     "data": {
      "image/png": "[encoded data removed]",
      "text/plain": [
       "<Figure size 432x288 with 1 Axes>"
      ]
     },
     "metadata": {
      "needs_background": "light"
     },
     "output_type": "display_data"
    }
   ],
   "source": [
    "cpi_all_df.plot(x='date', y='value')"
   ]
  },
  {
   "cell_type": "code",
   "execution_count": 116,
   "id": "a50bd092-3341-4907-89fa-a05aa33dfce3",
   "metadata": {},
   "outputs": [],
   "source": [
    "cpi_all_df['value_yoy'] = ((cpi_all_df.value/cpi_all_df.value.shift(12))-1)*100"
   ]
  },
  {
   "cell_type": "code",
   "execution_count": 117,
   "id": "a2b7ddca-79da-4f51-ba89-ca8e5f5a2f37",
   "metadata": {},
   "outputs": [
    {
     "data": {
      "text/plain": [
       "<AxesSubplot:xlabel='date'>"
      ]
     },
     "execution_count": 117,
     "metadata": {},
     "output_type": "execute_result"
    },
    {
     "data": {
      "image/png": "[encoded data removed]",
      "text/plain": [
       "<Figure size 432x288 with 1 Axes>"
      ]
     },
     "metadata": {
      "needs_background": "light"
     },
     "output_type": "display_data"
    }
   ],
   "source": [
    "cpi_all_df.plot(x='date', y='value_yoy')"
   ]
  },
  {
   "cell_type": "code",
   "execution_count": 118,
   "id": "f6d293a3-b5a7-4c31-a165-75f0ff5a9def",
   "metadata": {},
   "outputs": [
    {
     "data": {
      "text/html": [
       "<div>\n",
       "<style scoped>\n",
       "    .dataframe tbody tr th:only-of-type {\n",
       "        vertical-align: middle;\n",
       "    }\n",
       "\n",
       "    .dataframe tbody tr th {\n",
       "        vertical-align: top;\n",
       "    }\n",
       "\n",
       "    .dataframe thead th {\n",
       "        text-align: right;\n",
       "    }\n",
       "</style>\n",
       "<table border=\"1\" class=\"dataframe\">\n",
       "  <thead>\n",
       "    <tr style=\"text-align: right;\">\n",
       "      <th></th>\n",
       "      <th>series_id</th>\n",
       "      <th>year</th>\n",
       "      <th>period</th>\n",
       "      <th>value</th>\n",
       "      <th>footnote_codes</th>\n",
       "      <th>date</th>\n",
       "      <th>value_yoy</th>\n",
       "    </tr>\n",
       "  </thead>\n",
       "  <tbody>\n",
       "    <tr>\n",
       "      <th>3728</th>\n",
       "      <td>CUUR0000SA0</td>\n",
       "      <td>2021</td>\n",
       "      <td>M08</td>\n",
       "      <td>273.567</td>\n",
       "      <td>NaN</td>\n",
       "      <td>2021-08-01</td>\n",
       "      <td>5.251272</td>\n",
       "    </tr>\n",
       "    <tr>\n",
       "      <th>3729</th>\n",
       "      <td>CUUR0000SA0</td>\n",
       "      <td>2021</td>\n",
       "      <td>M09</td>\n",
       "      <td>274.310</td>\n",
       "      <td>NaN</td>\n",
       "      <td>2021-09-01</td>\n",
       "      <td>5.390349</td>\n",
       "    </tr>\n",
       "    <tr>\n",
       "      <th>3730</th>\n",
       "      <td>CUUR0000SA0</td>\n",
       "      <td>2021</td>\n",
       "      <td>M10</td>\n",
       "      <td>276.589</td>\n",
       "      <td>NaN</td>\n",
       "      <td>2021-10-01</td>\n",
       "      <td>6.221869</td>\n",
       "    </tr>\n",
       "    <tr>\n",
       "      <th>3731</th>\n",
       "      <td>CUUR0000SA0</td>\n",
       "      <td>2021</td>\n",
       "      <td>M11</td>\n",
       "      <td>277.948</td>\n",
       "      <td>NaN</td>\n",
       "      <td>2021-11-01</td>\n",
       "      <td>6.809003</td>\n",
       "    </tr>\n",
       "    <tr>\n",
       "      <th>3732</th>\n",
       "      <td>CUUR0000SA0</td>\n",
       "      <td>2021</td>\n",
       "      <td>M12</td>\n",
       "      <td>278.802</td>\n",
       "      <td>NaN</td>\n",
       "      <td>2021-12-01</td>\n",
       "      <td>7.036403</td>\n",
       "    </tr>\n",
       "  </tbody>\n",
       "</table>\n",
       "</div>"
      ],
      "text/plain": [
       "        series_id  year period    value  footnote_codes       date  value_yoy\n",
       "3728  CUUR0000SA0  2021    M08  273.567             NaN 2021-08-01   5.251272\n",
       "3729  CUUR0000SA0  2021    M09  274.310             NaN 2021-09-01   5.390349\n",
       "3730  CUUR0000SA0  2021    M10  276.589             NaN 2021-10-01   6.221869\n",
       "3731  CUUR0000SA0  2021    M11  277.948             NaN 2021-11-01   6.809003\n",
       "3732  CUUR0000SA0  2021    M12  278.802             NaN 2021-12-01   7.036403"
      ]
     },
     "execution_count": 118,
     "metadata": {},
     "output_type": "execute_result"
    }
   ],
   "source": [
    "cpi_all_df.tail()"
   ]
  },
  {
   "cell_type": "code",
   "execution_count": null,
   "id": "7eabb87e-dbde-4f78-b607-359adfff52f0",
   "metadata": {},
   "outputs": [],
   "source": []
  }
 ],
 "metadata": {
  "kernelspec": {
   "display_name": "Python 3",
   "language": "python",
   "name": "python3"
  },
  "language_info": {
   "codemirror_mode": {
    "name": "ipython",
    "version": 3
   },
   "file_extension": ".py",
   "mimetype": "text/x-python",
   "name": "python",
   "nbconvert_exporter": "python",
   "pygments_lexer": "ipython3",
   "version": "3.8.5"
  }
 },
 "nbformat": 4,
 "nbformat_minor": 5
}
