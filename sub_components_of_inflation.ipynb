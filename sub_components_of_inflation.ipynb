{
 "cells": [
  {
   "cell_type": "markdown",
   "id": "8b12cdf8-b493-4c83-af43-2f715d366211",
   "metadata": {},
   "source": [
    "Relative Importance data:\n",
    "https://www.bls.gov/cpi/tables/relative-importance/home.htm#Archived%20Relative%20Importance%20Data\n"
   ]
  },
  {
   "cell_type": "markdown",
   "id": "a71529cc-f21d-4166-a221-898532aa1210",
   "metadata": {},
   "source": [
    "Steps:\n",
    "\n",
    "0. Write scraper for relative importance data\n",
    "1. Use non-seasonally adjusted data\n",
    "2. Use monthly % change\n",
    "3. Weight each sub-component (ensure not to double count sub-components & sub-sub-components). Total should be 100%\n",
    "4. Sum of components should equal total CPI-U inflation"
   ]
  },
  {
   "cell_type": "markdown",
   "id": "be81dac1-fd75-4434-9c6e-97630469d690",
   "metadata": {
    "jupyter": {
     "outputs_hidden": true
    },
    "tags": []
   },
   "source": [
    "Reminder -- Series IDs are construced following these rules:\n",
    "\n",
    "|Data Element\t\t\t|Length\t\t|Reference\t\t\t\t|Values\t\t|Default|\n",
    "|-----------------------|-----------|-----------------------|-----------|-------|\n",
    "|CU\t\t\t\t\t\t|2\t\t\t|\t\t\t\t\t\t|CU\t\t\t|CU|\n",
    "|Seasonal Adjustment\t|1\t\t\t|cu.seasonal.txt\t\t|(S, U)\t\t|U|\n",
    "|Periodicity\t\t\t|1\t\t\t|cu.periodicity.txt\t\t|(R, S)\t\t|R|\n",
    "|Area\t\t\t\t\t|4\t\t\t|cu.area.txt\t\t\t|see file\t|0000|\n",
    "|Item\t\t\t\t\t|varies\t\t|cu.item.txt\t\t\t|see file\t|SAO|\n"
   ]
  },
  {
   "cell_type": "code",
   "execution_count": 1,
   "id": "168dea12-c7e0-4898-bc7b-b2ec83920a0f",
   "metadata": {},
   "outputs": [],
   "source": [
    "import pandas as pd"
   ]
  },
  {
   "cell_type": "code",
   "execution_count": 2,
   "id": "871a0e71-a4b9-43fc-b726-37fc27028d00",
   "metadata": {},
   "outputs": [],
   "source": [
    "items_df = pd.read_table('data/cu.item.txt')\n",
    "items_df.columns = [x.strip() for x in items_df.columns]"
   ]
  },
  {
   "cell_type": "markdown",
   "id": "a8cc0b42-ab6f-42d9-9148-222917ddb3d8",
   "metadata": {},
   "source": [
    "### \"First\" Level of subcomponents"
   ]
  },
  {
   "cell_type": "code",
   "execution_count": 7,
   "id": "8a658410-09f6-4fe4-85f9-e060ea7fda10",
   "metadata": {},
   "outputs": [
    {
     "data": {
      "text/html": [
       "<div>\n",
       "<style scoped>\n",
       "    .dataframe tbody tr th:only-of-type {\n",
       "        vertical-align: middle;\n",
       "    }\n",
       "\n",
       "    .dataframe tbody tr th {\n",
       "        vertical-align: top;\n",
       "    }\n",
       "\n",
       "    .dataframe thead th {\n",
       "        text-align: right;\n",
       "    }\n",
       "</style>\n",
       "<table border=\"1\" class=\"dataframe\">\n",
       "  <thead>\n",
       "    <tr style=\"text-align: right;\">\n",
       "      <th></th>\n",
       "      <th>item_code</th>\n",
       "      <th>item_name</th>\n",
       "      <th>display_level</th>\n",
       "      <th>selectable</th>\n",
       "      <th>sort_sequence</th>\n",
       "    </tr>\n",
       "  </thead>\n",
       "  <tbody>\n",
       "    <tr>\n",
       "      <th>31</th>\n",
       "      <td>SAF1</td>\n",
       "      <td>Food</td>\n",
       "      <td>1</td>\n",
       "      <td>T</td>\n",
       "      <td>4</td>\n",
       "    </tr>\n",
       "    <tr>\n",
       "      <th>47</th>\n",
       "      <td>SAH1</td>\n",
       "      <td>Shelter</td>\n",
       "      <td>1</td>\n",
       "      <td>T</td>\n",
       "      <td>137</td>\n",
       "    </tr>\n",
       "    <tr>\n",
       "      <th>48</th>\n",
       "      <td>SAH2</td>\n",
       "      <td>Fuels and utilities</td>\n",
       "      <td>1</td>\n",
       "      <td>T</td>\n",
       "      <td>145</td>\n",
       "    </tr>\n",
       "    <tr>\n",
       "      <th>50</th>\n",
       "      <td>SAH3</td>\n",
       "      <td>Household furnishings and operations</td>\n",
       "      <td>1</td>\n",
       "      <td>T</td>\n",
       "      <td>156</td>\n",
       "    </tr>\n",
       "    <tr>\n",
       "      <th>15</th>\n",
       "      <td>SAA1</td>\n",
       "      <td>Men's and boys' apparel</td>\n",
       "      <td>1</td>\n",
       "      <td>T</td>\n",
       "      <td>188</td>\n",
       "    </tr>\n",
       "    <tr>\n",
       "      <th>...</th>\n",
       "      <td>...</td>\n",
       "      <td>...</td>\n",
       "      <td>...</td>\n",
       "      <td>...</td>\n",
       "      <td>...</td>\n",
       "    </tr>\n",
       "    <tr>\n",
       "      <th>74</th>\n",
       "      <td>SATCLTB</td>\n",
       "      <td>Transportation commodities less motor fuel</td>\n",
       "      <td>1</td>\n",
       "      <td>T</td>\n",
       "      <td>394</td>\n",
       "    </tr>\n",
       "    <tr>\n",
       "      <th>68</th>\n",
       "      <td>SAS4</td>\n",
       "      <td>Transportation services</td>\n",
       "      <td>1</td>\n",
       "      <td>T</td>\n",
       "      <td>395</td>\n",
       "    </tr>\n",
       "    <tr>\n",
       "      <th>65</th>\n",
       "      <td>SAS24</td>\n",
       "      <td>Utilities and public transportation</td>\n",
       "      <td>1</td>\n",
       "      <td>T</td>\n",
       "      <td>396</td>\n",
       "    </tr>\n",
       "    <tr>\n",
       "      <th>272</th>\n",
       "      <td>SERAC</td>\n",
       "      <td>Video and audio products</td>\n",
       "      <td>1</td>\n",
       "      <td>T</td>\n",
       "      <td>397</td>\n",
       "    </tr>\n",
       "    <tr>\n",
       "      <th>273</th>\n",
       "      <td>SERAS</td>\n",
       "      <td>Video and audio services</td>\n",
       "      <td>1</td>\n",
       "      <td>T</td>\n",
       "      <td>398</td>\n",
       "    </tr>\n",
       "  </tbody>\n",
       "</table>\n",
       "<p>66 rows × 5 columns</p>\n",
       "</div>"
      ],
      "text/plain": [
       "    item_code                                   item_name  display_level  \\\n",
       "31       SAF1                                        Food              1   \n",
       "47       SAH1                                     Shelter              1   \n",
       "48       SAH2                         Fuels and utilities              1   \n",
       "50       SAH3        Household furnishings and operations              1   \n",
       "15       SAA1                     Men's and boys' apparel              1   \n",
       "..        ...                                         ...            ...   \n",
       "74    SATCLTB  Transportation commodities less motor fuel              1   \n",
       "68       SAS4                     Transportation services              1   \n",
       "65      SAS24         Utilities and public transportation              1   \n",
       "272     SERAC                    Video and audio products              1   \n",
       "273     SERAS                    Video and audio services              1   \n",
       "\n",
       "    selectable  sort_sequence  \n",
       "31           T              4  \n",
       "47           T            137  \n",
       "48           T            145  \n",
       "50           T            156  \n",
       "15           T            188  \n",
       "..         ...            ...  \n",
       "74           T            394  \n",
       "68           T            395  \n",
       "65           T            396  \n",
       "272          T            397  \n",
       "273          T            398  \n",
       "\n",
       "[66 rows x 5 columns]"
      ]
     },
     "execution_count": 7,
     "metadata": {},
     "output_type": "execute_result"
    }
   ],
   "source": [
    "items_df[items_df.display_level==1].sort_values(by='sort_sequence')"
   ]
  },
  {
   "cell_type": "code",
   "execution_count": null,
   "id": "ee2c618c-5258-4d37-ba0c-84cf0952ef35",
   "metadata": {},
   "outputs": [],
   "source": []
  }
 ],
 "metadata": {
  "kernelspec": {
   "display_name": "Python 3",
   "language": "python",
   "name": "python3"
  },
  "language_info": {
   "codemirror_mode": {
    "name": "ipython",
    "version": 3
   },
   "file_extension": ".py",
   "mimetype": "text/x-python",
   "name": "python",
   "nbconvert_exporter": "python",
   "pygments_lexer": "ipython3",
   "version": "3.8.5"
  }
 },
 "nbformat": 4,
 "nbformat_minor": 5
}
